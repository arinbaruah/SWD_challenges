{
 "cells": [
  {
   "cell_type": "code",
   "execution_count": 1,
   "id": "e7e86d2e",
   "metadata": {},
   "outputs": [
    {
     "name": "stdout",
     "output_type": "stream",
     "text": [
      "Collecting fastf1\n",
      "  Obtaining dependency information for fastf1 from https://files.pythonhosted.org/packages/27/6d/80ec65714549847a252a2b36757ca4f1fdf5a07d11be01d22de8e3f32f2e/fastf1-3.3.8-py3-none-any.whl.metadata\n",
      "  Downloading fastf1-3.3.8-py3-none-any.whl.metadata (4.0 kB)\n",
      "Requirement already satisfied: matplotlib<4.0.0,>=3.5.1 in /Users/rinbaruah/anaconda3/lib/python3.11/site-packages (from fastf1) (3.7.2)\n",
      "Requirement already satisfied: numpy<2.0.0,>=1.21.5 in /Users/rinbaruah/anaconda3/lib/python3.11/site-packages (from fastf1) (1.24.3)\n",
      "Requirement already satisfied: pandas<3.0.0,>=1.4.1 in /Users/rinbaruah/anaconda3/lib/python3.11/site-packages (from fastf1) (2.0.3)\n",
      "Requirement already satisfied: python-dateutil in /Users/rinbaruah/anaconda3/lib/python3.11/site-packages (from fastf1) (2.8.2)\n",
      "Collecting requests-cache>=1.0.0 (from fastf1)\n",
      "  Obtaining dependency information for requests-cache>=1.0.0 from https://files.pythonhosted.org/packages/cc/23/863f517b5d74e297e669c88093ecd92e13a06c488e90acbd5507819049ac/requests_cache-1.2.0-py3-none-any.whl.metadata\n",
      "  Downloading requests_cache-1.2.0-py3-none-any.whl.metadata (9.9 kB)\n",
      "Requirement already satisfied: requests>=2.28.1 in /Users/rinbaruah/anaconda3/lib/python3.11/site-packages (from fastf1) (2.31.0)\n",
      "Requirement already satisfied: scipy<2.0.0,>=1.7.3 in /Users/rinbaruah/anaconda3/lib/python3.11/site-packages (from fastf1) (1.11.1)\n",
      "Collecting thefuzz (from fastf1)\n",
      "  Obtaining dependency information for thefuzz from https://files.pythonhosted.org/packages/82/4f/1695e70ceb3604f19eda9908e289c687ea81c4fecef4d90a9d1d0f2f7ae9/thefuzz-0.22.1-py3-none-any.whl.metadata\n",
      "  Downloading thefuzz-0.22.1-py3-none-any.whl.metadata (3.9 kB)\n",
      "Collecting timple>=0.1.6 (from fastf1)\n",
      "  Obtaining dependency information for timple>=0.1.6 from https://files.pythonhosted.org/packages/75/45/c73f9af9a9d50b0ae972d185ef2255c62524d1aa20a76531dd2fcda48819/timple-0.1.8-py3-none-any.whl.metadata\n",
      "  Downloading timple-0.1.8-py3-none-any.whl.metadata (2.0 kB)\n",
      "Collecting websockets>=10.3 (from fastf1)\n",
      "  Obtaining dependency information for websockets>=10.3 from https://files.pythonhosted.org/packages/95/aa/75fa3b893142d6d98a48cb461169bd268141f2da8bfca97392d6462a02eb/websockets-12.0-cp311-cp311-macosx_11_0_arm64.whl.metadata\n",
      "  Downloading websockets-12.0-cp311-cp311-macosx_11_0_arm64.whl.metadata (6.6 kB)\n",
      "Requirement already satisfied: contourpy>=1.0.1 in /Users/rinbaruah/anaconda3/lib/python3.11/site-packages (from matplotlib<4.0.0,>=3.5.1->fastf1) (1.0.5)\n",
      "Requirement already satisfied: cycler>=0.10 in /Users/rinbaruah/anaconda3/lib/python3.11/site-packages (from matplotlib<4.0.0,>=3.5.1->fastf1) (0.11.0)\n",
      "Requirement already satisfied: fonttools>=4.22.0 in /Users/rinbaruah/anaconda3/lib/python3.11/site-packages (from matplotlib<4.0.0,>=3.5.1->fastf1) (4.25.0)\n",
      "Requirement already satisfied: kiwisolver>=1.0.1 in /Users/rinbaruah/anaconda3/lib/python3.11/site-packages (from matplotlib<4.0.0,>=3.5.1->fastf1) (1.4.4)\n",
      "Requirement already satisfied: packaging>=20.0 in /Users/rinbaruah/anaconda3/lib/python3.11/site-packages (from matplotlib<4.0.0,>=3.5.1->fastf1) (23.1)\n",
      "Requirement already satisfied: pillow>=6.2.0 in /Users/rinbaruah/anaconda3/lib/python3.11/site-packages (from matplotlib<4.0.0,>=3.5.1->fastf1) (10.2.0)\n",
      "Requirement already satisfied: pyparsing<3.1,>=2.3.1 in /Users/rinbaruah/anaconda3/lib/python3.11/site-packages (from matplotlib<4.0.0,>=3.5.1->fastf1) (3.0.9)\n",
      "Requirement already satisfied: pytz>=2020.1 in /Users/rinbaruah/anaconda3/lib/python3.11/site-packages (from pandas<3.0.0,>=1.4.1->fastf1) (2023.3.post1)\n",
      "Requirement already satisfied: tzdata>=2022.1 in /Users/rinbaruah/anaconda3/lib/python3.11/site-packages (from pandas<3.0.0,>=1.4.1->fastf1) (2023.3)\n",
      "Requirement already satisfied: six>=1.5 in /Users/rinbaruah/anaconda3/lib/python3.11/site-packages (from python-dateutil->fastf1) (1.16.0)\n",
      "Requirement already satisfied: charset-normalizer<4,>=2 in /Users/rinbaruah/anaconda3/lib/python3.11/site-packages (from requests>=2.28.1->fastf1) (2.0.4)\n",
      "Requirement already satisfied: idna<4,>=2.5 in /Users/rinbaruah/anaconda3/lib/python3.11/site-packages (from requests>=2.28.1->fastf1) (3.4)\n",
      "Requirement already satisfied: urllib3<3,>=1.21.1 in /Users/rinbaruah/anaconda3/lib/python3.11/site-packages (from requests>=2.28.1->fastf1) (1.26.16)\n",
      "Requirement already satisfied: certifi>=2017.4.17 in /Users/rinbaruah/anaconda3/lib/python3.11/site-packages (from requests>=2.28.1->fastf1) (2024.2.2)\n",
      "Requirement already satisfied: attrs>=21.2 in /Users/rinbaruah/anaconda3/lib/python3.11/site-packages (from requests-cache>=1.0.0->fastf1) (22.1.0)\n",
      "Collecting cattrs>=22.2 (from requests-cache>=1.0.0->fastf1)\n",
      "  Obtaining dependency information for cattrs>=22.2 from https://files.pythonhosted.org/packages/b3/0d/cd4a4071c7f38385dc5ba91286723b4d1090b87815db48216212c6c6c30e/cattrs-23.2.3-py3-none-any.whl.metadata\n",
      "  Downloading cattrs-23.2.3-py3-none-any.whl.metadata (10 kB)\n",
      "Requirement already satisfied: platformdirs>=2.5 in /Users/rinbaruah/anaconda3/lib/python3.11/site-packages (from requests-cache>=1.0.0->fastf1) (3.10.0)\n",
      "Collecting url-normalize>=1.4 (from requests-cache>=1.0.0->fastf1)\n",
      "  Obtaining dependency information for url-normalize>=1.4 from https://files.pythonhosted.org/packages/65/1c/6c6f408be78692fc850006a2b6dea37c2b8592892534e09996e401efc74b/url_normalize-1.4.3-py2.py3-none-any.whl.metadata\n",
      "  Downloading url_normalize-1.4.3-py2.py3-none-any.whl.metadata (3.1 kB)\n",
      "Collecting rapidfuzz<4.0.0,>=3.0.0 (from thefuzz->fastf1)\n",
      "  Obtaining dependency information for rapidfuzz<4.0.0,>=3.0.0 from https://files.pythonhosted.org/packages/ac/4d/fe74f3b300bef1cf4bb5f4e06e099384c04a9c18fa0449fccaa9bcff832b/rapidfuzz-3.9.3-cp311-cp311-macosx_11_0_arm64.whl.metadata\n",
      "  Downloading rapidfuzz-3.9.3-cp311-cp311-macosx_11_0_arm64.whl.metadata (12 kB)\n",
      "Collecting attrs>=21.2 (from requests-cache>=1.0.0->fastf1)\n",
      "  Obtaining dependency information for attrs>=21.2 from https://files.pythonhosted.org/packages/e0/44/827b2a91a5816512fcaf3cc4ebc465ccd5d598c45cefa6703fcf4a79018f/attrs-23.2.0-py3-none-any.whl.metadata\n",
      "  Downloading attrs-23.2.0-py3-none-any.whl.metadata (9.5 kB)\n",
      "Downloading fastf1-3.3.8-py3-none-any.whl (130 kB)\n",
      "\u001b[2K   \u001b[90m━━━━━━━━━━━━━━━━━━━━━━━━━━━━━━━━━━━━━━━━\u001b[0m \u001b[32m130.4/130.4 kB\u001b[0m \u001b[31m7.0 MB/s\u001b[0m eta \u001b[36m0:00:00\u001b[0m\n",
      "\u001b[?25hDownloading requests_cache-1.2.0-py3-none-any.whl (61 kB)\n",
      "\u001b[2K   \u001b[90m━━━━━━━━━━━━━━━━━━━━━━━━━━━━━━━━━━━━━━━━\u001b[0m \u001b[32m61.4/61.4 kB\u001b[0m \u001b[31m8.5 MB/s\u001b[0m eta \u001b[36m0:00:00\u001b[0m\n",
      "\u001b[?25hDownloading timple-0.1.8-py3-none-any.whl (17 kB)\n",
      "Downloading websockets-12.0-cp311-cp311-macosx_11_0_arm64.whl (121 kB)\n",
      "\u001b[2K   \u001b[90m━━━━━━━━━━━━━━━━━━━━━━━━━━━━━━━━━━━━━━━━\u001b[0m \u001b[32m121.3/121.3 kB\u001b[0m \u001b[31m12.3 MB/s\u001b[0m eta \u001b[36m0:00:00\u001b[0m\n",
      "\u001b[?25hDownloading thefuzz-0.22.1-py3-none-any.whl (8.2 kB)\n",
      "Downloading cattrs-23.2.3-py3-none-any.whl (57 kB)\n",
      "\u001b[2K   \u001b[90m━━━━━━━━━━━━━━━━━━━━━━━━━━━━━━━━━━━━━━━━\u001b[0m \u001b[32m57.5/57.5 kB\u001b[0m \u001b[31m6.8 MB/s\u001b[0m eta \u001b[36m0:00:00\u001b[0m\n",
      "\u001b[?25hDownloading attrs-23.2.0-py3-none-any.whl (60 kB)\n",
      "\u001b[2K   \u001b[90m━━━━━━━━━━━━━━━━━━━━━━━━━━━━━━━━━━━━━━━━\u001b[0m \u001b[32m60.8/60.8 kB\u001b[0m \u001b[31m6.3 MB/s\u001b[0m eta \u001b[36m0:00:00\u001b[0m\n",
      "\u001b[?25hDownloading rapidfuzz-3.9.3-cp311-cp311-macosx_11_0_arm64.whl (1.5 MB)\n",
      "\u001b[2K   \u001b[90m━━━━━━━━━━━━━━━━━━━━━━━━━━━━━━━━━━━━━━━━\u001b[0m \u001b[32m1.5/1.5 MB\u001b[0m \u001b[31m12.0 MB/s\u001b[0m eta \u001b[36m0:00:00\u001b[0m00:01\u001b[0m00:01\u001b[0m\n",
      "\u001b[?25hDownloading url_normalize-1.4.3-py2.py3-none-any.whl (6.8 kB)\n",
      "Installing collected packages: websockets, url-normalize, rapidfuzz, attrs, thefuzz, cattrs, timple, requests-cache, fastf1\n",
      "  Attempting uninstall: attrs\n",
      "    Found existing installation: attrs 22.1.0\n",
      "    Uninstalling attrs-22.1.0:\n",
      "      Successfully uninstalled attrs-22.1.0\n",
      "Successfully installed attrs-23.2.0 cattrs-23.2.3 fastf1-3.3.8 rapidfuzz-3.9.3 requests-cache-1.2.0 thefuzz-0.22.1 timple-0.1.8 url-normalize-1.4.3 websockets-12.0\n",
      "Note: you may need to restart the kernel to use updated packages.\n"
     ]
    }
   ],
   "source": []
  },
  {
   "cell_type": "code",
   "execution_count": null,
   "id": "3f5eeaea",
   "metadata": {},
   "outputs": [],
   "source": []
  }
 ],
 "metadata": {
  "kernelspec": {
   "display_name": "Python 3 (ipykernel)",
   "language": "python",
   "name": "python3"
  },
  "language_info": {
   "codemirror_mode": {
    "name": "ipython",
    "version": 3
   },
   "file_extension": ".py",
   "mimetype": "text/x-python",
   "name": "python",
   "nbconvert_exporter": "python",
   "pygments_lexer": "ipython3",
   "version": "3.11.5"
  }
 },
 "nbformat": 4,
 "nbformat_minor": 5
}
